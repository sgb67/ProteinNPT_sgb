{
 "cells": [
  {
   "cell_type": "markdown",
   "id": "970542ec",
   "metadata": {},
   "source": [
    "# Wrangling"
   ]
  },
  {
   "cell_type": "code",
   "execution_count": null,
   "id": "b314693b",
   "metadata": {},
   "outputs": [],
   "source": [
    "pip install esm"
   ]
  }
 ],
 "metadata": {
  "language_info": {
   "name": "python"
  }
 },
 "nbformat": 4,
 "nbformat_minor": 5
}
