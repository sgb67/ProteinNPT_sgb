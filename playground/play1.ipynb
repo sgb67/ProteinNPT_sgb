{
 "cells": [
  {
   "cell_type": "markdown",
   "id": "970542ec",
   "metadata": {},
   "source": [
    "# Wrangling"
   ]
  },
  {
   "cell_type": "code",
   "execution_count": 1,
   "id": "b314693b",
   "metadata": {},
   "outputs": [
    {
     "name": "stdout",
     "output_type": "stream",
     "text": [
      "Collecting pandas\n",
      "  Downloading pandas-2.3.1-cp313-cp313-manylinux_2_17_x86_64.manylinux2014_x86_64.whl.metadata (91 kB)\n",
      "Requirement already satisfied: numpy>=1.26.0 in /software/conda/users/sb79/enzymenpt/lib/python3.13/site-packages (from pandas) (2.3.1)\n",
      "Requirement already satisfied: python-dateutil>=2.8.2 in /software/conda/users/sb79/enzymenpt/lib/python3.13/site-packages (from pandas) (2.9.0.post0)\n",
      "Requirement already satisfied: pytz>=2020.1 in /software/conda/users/sb79/enzymenpt/lib/python3.13/site-packages (from pandas) (2025.2)\n",
      "Collecting tzdata>=2022.7 (from pandas)\n",
      "  Downloading tzdata-2025.2-py2.py3-none-any.whl.metadata (1.4 kB)\n",
      "Requirement already satisfied: six>=1.5 in /software/conda/users/sb79/enzymenpt/lib/python3.13/site-packages (from python-dateutil>=2.8.2->pandas) (1.17.0)\n",
      "Downloading pandas-2.3.1-cp313-cp313-manylinux_2_17_x86_64.manylinux2014_x86_64.whl (12.1 MB)\n",
      "\u001b[2K   \u001b[90m━━━━━━━━━━━━━━━━━━━━━━━━━━━━━━━━━━━━━━━━\u001b[0m \u001b[32m12.1/12.1 MB\u001b[0m \u001b[31m25.7 MB/s\u001b[0m eta \u001b[36m0:00:00\u001b[0m00:01\u001b[0m0:01\u001b[0m\n",
      "\u001b[?25hDownloading tzdata-2025.2-py2.py3-none-any.whl (347 kB)\n",
      "Installing collected packages: tzdata, pandas\n",
      "\u001b[2K   \u001b[90m━━━━━━━━━━━━━━━━━━━━━━━━━━━━━━━━━━━━━━━━\u001b[0m \u001b[32m2/2\u001b[0m [pandas]2m1/2\u001b[0m [pandas]\n",
      "\u001b[1A\u001b[2KSuccessfully installed pandas-2.3.1 tzdata-2025.2\n",
      "Note: you may need to restart the kernel to use updated packages.\n"
     ]
    }
   ],
   "source": [
    "pip install pandas"
   ]
  },
  {
   "cell_type": "code",
   "execution_count": 2,
   "id": "cd1b5180",
   "metadata": {},
   "outputs": [],
   "source": [
    "import pandas as pd\n"
   ]
  },
  {
   "cell_type": "code",
   "execution_count": 6,
   "id": "ec7ba113",
   "metadata": {},
   "outputs": [],
   "source": [
    "df = pd.read_parquet('../../EnzyExtractDB_176463.parquet')"
   ]
  },
  {
   "cell_type": "code",
   "execution_count": 7,
   "id": "2caf068a",
   "metadata": {},
   "outputs": [
    {
     "data": {
      "text/html": [
       "<div>\n",
       "<style scoped>\n",
       "    .dataframe tbody tr th:only-of-type {\n",
       "        vertical-align: middle;\n",
       "    }\n",
       "\n",
       "    .dataframe tbody tr th {\n",
       "        vertical-align: top;\n",
       "    }\n",
       "\n",
       "    .dataframe thead th {\n",
       "        text-align: right;\n",
       "    }\n",
       "</style>\n",
       "<table border=\"1\" class=\"dataframe\">\n",
       "  <thead>\n",
       "    <tr style=\"text-align: right;\">\n",
       "      <th></th>\n",
       "      <th>pmid</th>\n",
       "      <th>enzyme</th>\n",
       "      <th>enzyme_full</th>\n",
       "      <th>substrate</th>\n",
       "      <th>substrate_full</th>\n",
       "      <th>mutant</th>\n",
       "      <th>organism</th>\n",
       "      <th>kcat</th>\n",
       "      <th>km</th>\n",
       "      <th>kcat_km</th>\n",
       "      <th>...</th>\n",
       "      <th>uniprot</th>\n",
       "      <th>ncbi</th>\n",
       "      <th>pdb</th>\n",
       "      <th>max_enzyme_similarity</th>\n",
       "      <th>max_organism_similarity</th>\n",
       "      <th>total_similarity</th>\n",
       "      <th>meta.doctype</th>\n",
       "      <th>flag.repetitive</th>\n",
       "      <th>flag.hallucination</th>\n",
       "      <th>flag.scientific</th>\n",
       "    </tr>\n",
       "  </thead>\n",
       "  <tbody>\n",
       "    <tr>\n",
       "      <th>0</th>\n",
       "      <td>10026218</td>\n",
       "      <td>GPI-PLC</td>\n",
       "      <td>glycosylphosphatidylinositol-specific phosphol...</td>\n",
       "      <td>VSG</td>\n",
       "      <td>variant surface glycoprotein</td>\n",
       "      <td>Acylated</td>\n",
       "      <td>Trypanosoma brucei</td>\n",
       "      <td>1188 min^-1</td>\n",
       "      <td>2.7 µM</td>\n",
       "      <td>None</td>\n",
       "      <td>...</td>\n",
       "      <td>P09194</td>\n",
       "      <td>None</td>\n",
       "      <td>None</td>\n",
       "      <td>63.013699</td>\n",
       "      <td>100.0</td>\n",
       "      <td>NaN</td>\n",
       "      <td>xml</td>\n",
       "      <td>NaN</td>\n",
       "      <td>NaN</td>\n",
       "      <td>None</td>\n",
       "    </tr>\n",
       "    <tr>\n",
       "      <th>1</th>\n",
       "      <td>10026218</td>\n",
       "      <td>GPI-PLC</td>\n",
       "      <td>glycosylphosphatidylinositol-specific phosphol...</td>\n",
       "      <td>VSG</td>\n",
       "      <td>variant surface glycoprotein</td>\n",
       "      <td>Acylated</td>\n",
       "      <td>Trypanosoma brucei</td>\n",
       "      <td>1636 min^-1</td>\n",
       "      <td>2.6 µM</td>\n",
       "      <td>None</td>\n",
       "      <td>...</td>\n",
       "      <td>P09194</td>\n",
       "      <td>None</td>\n",
       "      <td>None</td>\n",
       "      <td>63.013699</td>\n",
       "      <td>100.0</td>\n",
       "      <td>NaN</td>\n",
       "      <td>xml</td>\n",
       "      <td>NaN</td>\n",
       "      <td>NaN</td>\n",
       "      <td>None</td>\n",
       "    </tr>\n",
       "    <tr>\n",
       "      <th>2</th>\n",
       "      <td>10026218</td>\n",
       "      <td>GPI-PLC</td>\n",
       "      <td>glycosylphosphatidylinositol-specific phosphol...</td>\n",
       "      <td>VSG</td>\n",
       "      <td>variant surface glycoprotein</td>\n",
       "      <td>De-acylated</td>\n",
       "      <td>Trypanosoma brucei</td>\n",
       "      <td>39 min^-1</td>\n",
       "      <td>1.7 µM</td>\n",
       "      <td>None</td>\n",
       "      <td>...</td>\n",
       "      <td>P09194</td>\n",
       "      <td>None</td>\n",
       "      <td>None</td>\n",
       "      <td>63.013699</td>\n",
       "      <td>100.0</td>\n",
       "      <td>NaN</td>\n",
       "      <td>xml</td>\n",
       "      <td>NaN</td>\n",
       "      <td>NaN</td>\n",
       "      <td>None</td>\n",
       "    </tr>\n",
       "    <tr>\n",
       "      <th>3</th>\n",
       "      <td>10026218</td>\n",
       "      <td>GPI-PLC</td>\n",
       "      <td>glycosylphosphatidylinositol-specific phosphol...</td>\n",
       "      <td>VSG</td>\n",
       "      <td>variant surface glycoprotein</td>\n",
       "      <td>De-acylated</td>\n",
       "      <td>Trypanosoma brucei</td>\n",
       "      <td>89 min^-1</td>\n",
       "      <td>2.0 µM</td>\n",
       "      <td>None</td>\n",
       "      <td>...</td>\n",
       "      <td>P09194</td>\n",
       "      <td>None</td>\n",
       "      <td>None</td>\n",
       "      <td>63.013699</td>\n",
       "      <td>100.0</td>\n",
       "      <td>NaN</td>\n",
       "      <td>xml</td>\n",
       "      <td>NaN</td>\n",
       "      <td>NaN</td>\n",
       "      <td>None</td>\n",
       "    </tr>\n",
       "    <tr>\n",
       "      <th>4</th>\n",
       "      <td>10074426</td>\n",
       "      <td>xSMUG1</td>\n",
       "      <td>single-strand-selective monofunctional uracil-...</td>\n",
       "      <td>ssU</td>\n",
       "      <td>single-stranded uracil</td>\n",
       "      <td>None</td>\n",
       "      <td>None</td>\n",
       "      <td>2.5 s^-1</td>\n",
       "      <td>1.09 µM</td>\n",
       "      <td>2.3 × 10^6 s^-1 M^-1</td>\n",
       "      <td>...</td>\n",
       "      <td>Q53HV7</td>\n",
       "      <td>None</td>\n",
       "      <td>None</td>\n",
       "      <td>96.721311</td>\n",
       "      <td>NaN</td>\n",
       "      <td>48.360656</td>\n",
       "      <td>xml</td>\n",
       "      <td>NaN</td>\n",
       "      <td>NaN</td>\n",
       "      <td>None</td>\n",
       "    </tr>\n",
       "  </tbody>\n",
       "</table>\n",
       "<p>5 rows × 39 columns</p>\n",
       "</div>"
      ],
      "text/plain": [
       "       pmid   enzyme                                        enzyme_full  \\\n",
       "0  10026218  GPI-PLC  glycosylphosphatidylinositol-specific phosphol...   \n",
       "1  10026218  GPI-PLC  glycosylphosphatidylinositol-specific phosphol...   \n",
       "2  10026218  GPI-PLC  glycosylphosphatidylinositol-specific phosphol...   \n",
       "3  10026218  GPI-PLC  glycosylphosphatidylinositol-specific phosphol...   \n",
       "4  10074426   xSMUG1  single-strand-selective monofunctional uracil-...   \n",
       "\n",
       "  substrate                substrate_full       mutant            organism  \\\n",
       "0       VSG  variant surface glycoprotein     Acylated  Trypanosoma brucei   \n",
       "1       VSG  variant surface glycoprotein     Acylated  Trypanosoma brucei   \n",
       "2       VSG  variant surface glycoprotein  De-acylated  Trypanosoma brucei   \n",
       "3       VSG  variant surface glycoprotein  De-acylated  Trypanosoma brucei   \n",
       "4       ssU        single-stranded uracil         None                None   \n",
       "\n",
       "          kcat       km               kcat_km  ... uniprot  ncbi   pdb  \\\n",
       "0  1188 min^-1   2.7 µM                  None  ...  P09194  None  None   \n",
       "1  1636 min^-1   2.6 µM                  None  ...  P09194  None  None   \n",
       "2    39 min^-1   1.7 µM                  None  ...  P09194  None  None   \n",
       "3    89 min^-1   2.0 µM                  None  ...  P09194  None  None   \n",
       "4     2.5 s^-1  1.09 µM  2.3 × 10^6 s^-1 M^-1  ...  Q53HV7  None  None   \n",
       "\n",
       "  max_enzyme_similarity max_organism_similarity total_similarity meta.doctype  \\\n",
       "0             63.013699                   100.0              NaN          xml   \n",
       "1             63.013699                   100.0              NaN          xml   \n",
       "2             63.013699                   100.0              NaN          xml   \n",
       "3             63.013699                   100.0              NaN          xml   \n",
       "4             96.721311                     NaN        48.360656          xml   \n",
       "\n",
       "  flag.repetitive flag.hallucination flag.scientific  \n",
       "0             NaN                NaN            None  \n",
       "1             NaN                NaN            None  \n",
       "2             NaN                NaN            None  \n",
       "3             NaN                NaN            None  \n",
       "4             NaN                NaN            None  \n",
       "\n",
       "[5 rows x 39 columns]"
      ]
     },
     "execution_count": 7,
     "metadata": {},
     "output_type": "execute_result"
    }
   ],
   "source": [
    "df.head()"
   ]
  },
  {
   "cell_type": "code",
   "execution_count": 10,
   "id": "df6b429c",
   "metadata": {},
   "outputs": [
    {
     "data": {
      "text/plain": [
       "sequence\n",
       "MTMITDSLAVVLQRRDWENPGVTQLNRLAAHPPFASWRNSEEARTDRPSQQLRSLNGEWRFAWFPAPEAVPESWLECDLPEADTVVVPSNWQMHGYDAPIYTNVTYPITVNPPFVPTENPTGCYSLTFNVDESWLQEGQTRIIFDGVNSAFHLWCNGRWVGYGQDSRLPSEFDLSAFLRAGENRLAVMVLRWSDGSYLEDQDMWRMSGIFRDVSLLHKPTTQISDFHVATRFNDDFSRAVLEAEVQMCGELRDYLRVTVSLWQGETQVASGTAPFGGEIIDERGGYADRVTLRLNVENPKLWSAEIPNLYRAVVELHTADGTLIEAEACDVGFREVRIENGLLLLNGKPLLIRGVNRHEHHPLHGQVMDEQTMVQDILLMKQNNFNAVRCSHYPNHPLWYTLCDRYGLYVVDEANIETHGMVPMNRLTDDPRWLPAMSERVTRMVQRDRNHPSVIIWSLGNESGHGANHDALYRWIKSVDPSRPVQYEGGGADTTATDIICPMYARVDEDQPFPAVPKWSIKKWLSLPGETRPLILCEYAHAMGNSLGGFAKYWQAFRQYPRLQGGFVWDWVDQSLIKYDENGNPWSAYGGDFGDTPNDRQFCMNGLVFADRTPHPALTEAKHQQQFFQFRLSGQTIEVTSEYLFRHSDNELLHWMVALDGKPLASGEVPLDVAPQGKQLIELPELPQPESAGQLWLTVRVVQPNATAWSEAGHISAWQQWRLAENLSVTLPAASHAIPHLTTSEMDFCIELGNKRWQFNRQSGFLSQMWIGDKKQLLTPLRDQFTRAPLDNDIGVSEATRIDPNAWVERWKAAGHYQAEAALLQCTADTLADAVLITTAHAWQHQGKTLFISRKTYRIDGSGQMAITVDVEVASDTPHPARIGLNCQLAQVAERVNWLGLGPQENYPDRLTAACFDRWDLPLSDMYTPYVFPSENGLRCGTRELNYGPHQWRGDFQFNISRYSQQQLMETSHRHLLHAEEGTWLNIDGFHMGIGGDDSWSPSVSAEFQLSAGRYHYQLVWCQK    253\n",
       "MHSKVTIICIRFLFWFLLLCMLIGKSHTEDDIIIATKNGKVRGMNLTVFGGTVTAFLGIPYAQPPLGRLRFKKPQSLTKWSDIWNATKYANSCCQNIDQSFPGFHGSEMWNPNTDLSEDCLYLNVWIPAPKPKNATVLIWIYGGGFQTGTSSLHVYDGKFLARVERVIVVSMNYRVGALGFLALPGNPEAPGNMGLFDQQLALQWVQKNIAAFGGNPKSVTLFGESAGAASVSLHLLSPGSHSLFTRAILQSGSFNAPWAVTSLYEARNRTLNLAKLTGCSRENETEIIKCLRNKDPQEILLNEAFVVPYGTPLSVNFGPTVDGDFLTDMPDILLELGQFKKTQILVGVNKDEGTAFLVYGAPGFSKDNNSIITRKEFQEGLKIFFPGVSEFGKESILFHYTDWVDDQRPENYREALGDVVGDYNFICPALEFTKKFSEWGNNAFFYYFEHRSSKLPWPEWMGVMHGYEIEFVFGLPLERRDNYTKAEEILSRSIVKRWANFAKYGNPNETQNNSTSWPVFKSTEQKYLTLNTESTRIMTKLRAQQCRFWTSFFPKVLEMTGNIDEAEWEWKAGFHRWNNYMMDWKNQFNDYTSKKESCVGL                                                                                                                                                                                                                                                                                                                                                                                                                                          238\n",
       "MDAMKRGLCCVLLLCGAVFVSPSQEIHARFRRGARSYQVICRDEKTQMIYQQHQSWLRPVLRSNRVEYCWCNSGRAQCHSVPVKSCSEPRCFNGGTCQQALYFSDFVCQCPEGFAGKCCEIDTRATCYEDQGISYRGTWSTAESGAECTNWNSSALAQKPYSGRRPDAIRLGLGNHNYCRNPDRDSKPWCYVFKAGKYSSEFCSTPACSEGNSDCYFGNGSAYRGTHSLTESGASCLPWNSMILIGKVYTAQNPSAQALGLGKHNYCRNPDGDAKPWCHVLKNRRLTWEYCDVPSCSTCGLRQYSQPQFRIKGGLFADIASHPWQAAIFAKHRRSPGERFLCGGILISSCWILSAAHCFQERFPPHHLTVILGRTYRVVPGEEEQKFEVEKYIVHKEFDDDTYDNDIALLQLKSDSSRCAQESSVVRTVCLPPADLQLPDWTECELSGYGKHEALSPFYSERLKEAHVRLYPSSRCTSQHLLNRTVTDNMLCAGDTRSGGPQANLHDACQGDSGGPLVCLNDGRMTLVGIISWGLGCGQKDVPGVYTKVTNYLDWIRDNMRP                                                                                                                                                                                                                                                                                                                                                                                                                                                                                  228\n",
       "MRSTLLAFALAVALPAAHTSAAEVPLPQLRAYTVDASWLQPMAPLQIADHTWQIGTEDLTALLVQTPDGAVLLDGGMPQMASHLLDNMKARGVTPRDLRLILLSHAHADHAGPVAELKRRTGAKVAANAESAVLLARGGSDDLHFGDGITYPPANADRIVMDGEVITVGGIVFTAHFMAGHTPGSTAWTWTDTRNGKPVRIAYADSLSAPGYQLQGNPRYPHLIEDYRRSFATVRALPCDVLLTPHPGASNWDYAAGARAGAKALTCKAYADAAEQKFDGQLAKETAGAR                                                                                                                                                                                                                                                                                                                                                                                                                                                                                                                                                                                                                                                                                                                                                                  214\n",
       "MDSTKEKCDSYKDDLLLRMGLNDNKAGMEGLDKEKINKIIMEATKGSRFYGNELKKEKQVNQRIENMMQQKAQITSQQLRKAQLQVDRFAMELEQSRNLSNTIVHIDMDAFYAAVEMRDNPELKDKPIAVGSMSMLSTSNYHARRFGVRAAMPGFIAKRLCPQLIIVPPNFDKYRAVSKEVKEILADYDPNFMAMSLDEAYLNITKHLEERQNWPEDKRRYFIKMGSSVENDNPGKEVNKLSEHERSISPLLFEESPSDVQPPGDPFQVNFEEQNNPQILQNSVVFGTSAQEVVKEIRFRIEQKTTLTASAGIAPNTMLAKVCSDKNKPNGQYQILPNRQAVMDFIKDLPIRKVSGIGKVTEKMLKALGIITCTELYQQRALLSLLFSETSWHYFLHISLGLGSTHLTRDGERKSMSVERTFSEINKAEEQYSLCQELCSELAQDLQKERLKGRTVTIKLKNVNFEVKTRASTVSSVVSTAEEIFAIAKELLKTEIDADFPHPLRLRLMGVRISSFPNEEDRKHQQRSIIGFLQAGNQALSATECTLEKTDKDKFVKPLEMSHKKSFFDKKRSERKWSHQDTFKCEAVNKQSFQTSQPFQVLKKKMNENLEISENSDDCQILTCPVCFRAQGCISLEALNKHVDECLDGPSISENFKMFSCSHVSATKVNKKENVPASSLCEKQDYEAHPKIKEISSVDCIALVDTIDNSSKAESIDALSNKHSKEECSSLPSKSFNIEHCHQNSSSTVSLENEDVGSFRQEYRQPYLCEVKTGQALVCPVCNVEQKTSDLTLFNVHVDVCLNKSFIQELRKDKFNPVNQPKESSRSTGSSSGVQKAVTRTKRPGLMTKYSTSKKIKPNNPKHTLDIFFK                                                                                                                                                              193\n",
       "MISLIAALAVDRVIGMENAMPWNLPADLAWFKRNTLDKPVIMGRHTWESIGRPLPGRKNIILSSQPGTDDRVTWVKSVDEAIAACGDVPEIMVIGGGRVYEQFLPKAQKLYLTHIDAEVEGDTHFPDYEPDDWESVFSEFHDADAQNSHSYCFEILERR                                                                                                                                                                                                                                                                                                                                                                                                                                                                                                                                                                                                                                                                                                                                                                                                                                                                                                     189\n",
       "MFENITAAPADPILGLADLFRADERPGKINLGIGVYKDETGKTPVLTSVKKAEQYLLENETTKNYLGIDGIPEFGRCTQELLFGKGSALINDKRARTAQTPGGTGALRVAADFLAKNTSVKRVWVSNPSWPNHKSVFNSAGLEVREYAYYDAENHTLDFDALINSLNEAQAGDVVLFHGCCHNPTGIDPTLEQWQTLAQLSVEKGWLPLFDFAYQGFARGLEEDAEGLRAFAAMHKELIVASSYSKNFGLYNERVGACTLVAADSETVDRAFSQMKAAIRANYSNPPAHGASVVATILSNDALRAIWEQELTDMRQRIQRMRQLFVNTLQEKGANRDFSFIIKQNGMFSFSGLTKEQVLRLREEFGVYAVASGRVNVAGMTPDNMAPLCEAIVAVL                                                                                                                                                                                                                                                                                                                                                                                                                                                                                                                                                                                                                                                        187\n",
       "MVQIPQNPLILVDGSSYLYRAYHAFPPLTNSAGEPTGAMYGVLNMLRSLIMQYKPTHAAVVFDAKGKTFRDELFEHYKSHRPPMPDDLRAQIEPLHAMVKAMGLPLLAVSGVEADDVIGTLAREAEKAGRPVLISTGDKDMAQLVTPNITLINTMTNTILGPEEVVNKYGVPPELIIDFLALMGDSSDNIPGVPGVGEKTAQALLQGLGGLDTLYAEPEKIAGLSFRGAKTMAAKLEQNKEVAYLSYQLATIKTDVELELTCEQLEVQQPAAEELLGLFKKYEFKRWTADVEAGKWLQAKGAKPAAKPQETSVADEAPEVTATVISYDNYVTILDEETLKAWIAKLEKAPVFAFDTETDSLDNISANLVGLSFAIEPGVAAYIPVAHDYLDAPDQISRERALELLKPLLEDEKALKVGQNLKYDRGILANYGIELRGIAFDTMLESYILNSVAGRHDMDSLAERWLKHKTITFEEIAGKGKNQLTFNQIALEEAGRYAAEDADVTLQLHLKMWPDLQKHKGPLNVFENIEMPLVPVLSRIERNGVKIDPKVLHNHSEELTLRLAELEKKAHEIAGEEFNLSSTKQLQTILFEKQGIKPLKKTPGGAPSTSEEVLEELALDYPLPKVILEYRGLAKLKSTYTDKLPLMINPKTGRVHTSYHQAVTATGRLSSTDPNLQNIPVRNEEGRRIRQAFIAPEDYVIVSADYSQIELRIMAHLSRDKGLLTAFAEGKDIHRATAAEVFGLPLETVTSEQRRSAKAINFGLIYGMSAFGLARQLNIPRKEAQKYMDLYFERYPGVLEYMERTRAQAKEQGYVETLDGRRLYLPDIKSSNGARRAAAERAAINAPMQGTAADIIKRAMIAVDAWLQAEQPRVRMIMQVHDELVFEVHKDDVDAVAKQIHQLMENCTRLDVPLLVEVGSGENWDQAH                                                                                                    187\n",
       "IKEKGKPL(MSE)LNPRTNKG(MSE)AFTLQERQ(MSE)LGLQGLLPPKIETQDIQALRFHRNLKK(MSE)TSPLEKYIYI(MSE)GIQERNEKLFYRILQDDIESL(MSE)PIVYTPTVGLACSQYGHIFRRPKGLFISISDRGHVRSIVDNWPENHVKAVVVTDGERILGLGDLGVYG(MSE)GIPVGKLCLYTACAGIRPDRCLPVCIDVGTDNIALLKDPFY(MSE)GLYQKRDRTQQYDDLIDEF(MSE)KAITDRYGRNTLIQFEDFGNHNAFRFLRKYREKYCTFNDDIQGTAAVALAGLLAAQKVISKPISEHKILFLGAGEAALGIANLIV(MSE)S(MSE)VENGLSEQEAQKKIW(MSE)FDKYGLLVKGRKAKIDSYQEPFTHSAPESIPDTFEDAVNILKPSTIIGVAGAGRLFTPDVIRA(MSE)ASINERPVIFALSNPTAQAECTAEEAYTLTEGRCLFASGSPFGPVKLTDGRVFTPGQGNNVYIFPGVALAVILCNTRHISDSVFLEAAKALTSQLTDEELAQGRLYPPLANIQEVSINIAIKVTEYLYANK(MSE)AFRYPEPEDKAKYVKERTWRSEYDSLLPDVYEWPESASSPPVITE                                                                                                                                                                                                                                                                                                                                                                                                                        176\n",
       "MKAFTSLLCGLGLSTTLAKAISLQRPLGLDKDVLLQAAEKFGLDLDLDHLLKELDSNVLDAWAQIEHLYPNQVMSLETSTKPKFPEAIKTKKDWDFVVKNDAIENYQLRVNKIKDPKILGIDPNVTQYTGYLDVEDEDKHFFFWTFESRNDPAKDPVILWLNGGPGCSSLTGLFFELGPSSIGPDLKPIGNPYSWNSNATVIFLDQPVNVGFSYSGSSGVSNTVAAGKDVYNFLELFFDQFPEYVNKGQDFHIAGESYAGHYIPVFASEILSHKDRNFNLTSVLIGNGLTDPLTQYNYYEPMACGEGGEPSVLPSEECSAMEDSLERCLGLIESCYDSQSVWSCVPATIYCNNAQLAPYQRTGRNVYDIRKDCEGGNLCYPTLQDIDDYLNQDYVKEAVGAEVDHYESCNFDINRNFLFAGDWMKPYHTAVTDLLNQDLPILVYAGDKDFICNWLGNKAWTDVLPWKYDEEFASQKVRNWTASITDEVAGEVKSYKHFTYLRVFNGGHMVPFDVPENALSMVNEWIHGGFSL                                                                                                                                                                                                                                                                                                                                                                                                                                                                                                                174\n",
       "Name: count, dtype: int64"
      ]
     },
     "execution_count": 10,
     "metadata": {},
     "output_type": "execute_result"
    }
   ],
   "source": [
    "df['sequence'].value_counts().head(10)"
   ]
  },
  {
   "cell_type": "code",
   "execution_count": 12,
   "id": "3fe116e6",
   "metadata": {},
   "outputs": [
    {
     "data": {
      "text/plain": [
       "enzyme_full\n",
       "β-glucosidase                        484\n",
       "dihydrofolate reductase              479\n",
       "laccase                              439\n",
       "tissue-type plasminogen activator    251\n",
       "carboxypeptidase Y                   233\n",
       "glucokinase                          219\n",
       "lactate dehydrogenase                211\n",
       "glucose-6-phosphate dehydrogenase    211\n",
       "dengue virus proteases               195\n",
       "alcohol dehydrogenase                194\n",
       "Name: count, dtype: int64"
      ]
     },
     "execution_count": 12,
     "metadata": {},
     "output_type": "execute_result"
    }
   ],
   "source": [
    "df['enzyme_full'].value_counts().head(10)"
   ]
  },
  {
   "cell_type": "code",
   "execution_count": 13,
   "id": "556c2d71",
   "metadata": {},
   "outputs": [
    {
     "data": {
      "text/plain": [
       "enzyme\n",
       "laccase              584\n",
       "trypsin              538\n",
       "DHFR                 415\n",
       "Not applicable       381\n",
       "thrombin             355\n",
       "β-glucosidase        339\n",
       "β-galactosidase      325\n",
       "TEM-1 β-lactamase    291\n",
       "arginine kinase      272\n",
       "FNR                  270\n",
       "Name: count, dtype: int64"
      ]
     },
     "execution_count": 13,
     "metadata": {},
     "output_type": "execute_result"
    }
   ],
   "source": [
    "df['enzyme'].value_counts().head(10)"
   ]
  },
  {
   "cell_type": "code",
   "execution_count": 20,
   "id": "ecda1da8",
   "metadata": {},
   "outputs": [
    {
     "data": {
      "text/plain": [
       "array([None], dtype=object)"
      ]
     },
     "execution_count": 20,
     "metadata": {},
     "output_type": "execute_result"
    }
   ],
   "source": [
    "df['flag.scientific'].unique()"
   ]
  },
  {
   "cell_type": "code",
   "execution_count": 19,
   "id": "50daf968",
   "metadata": {},
   "outputs": [
    {
     "data": {
      "text/plain": [
       "Index(['pmid', 'enzyme', 'enzyme_full', 'substrate', 'substrate_full',\n",
       "       'mutant', 'organism', 'kcat', 'km', 'kcat_km', 'temperature', 'pH',\n",
       "       'solution', 'cofactors', 'other', 'descriptor', 'canonical',\n",
       "       'clean_mutant', 'cid', 'brenda_id', 'smiles', 'cid_full',\n",
       "       'brenda_id_full', 'enzyme_ecs', 'enzyme_ecs_full', 'kcat_value',\n",
       "       'km_value', 'sequence', 'sequence_source', 'uniprot', 'ncbi', 'pdb',\n",
       "       'max_enzyme_similarity', 'max_organism_similarity', 'total_similarity',\n",
       "       'meta.doctype', 'flag.repetitive', 'flag.hallucination',\n",
       "       'flag.scientific'],\n",
       "      dtype='object')"
      ]
     },
     "execution_count": 19,
     "metadata": {},
     "output_type": "execute_result"
    }
   ],
   "source": [
    "df.columns"
   ]
  },
  {
   "cell_type": "code",
   "execution_count": null,
   "id": "608229d6",
   "metadata": {},
   "outputs": [],
   "source": []
  }
 ],
 "metadata": {
  "kernelspec": {
   "display_name": "enzymenpt",
   "language": "python",
   "name": "python3"
  },
  "language_info": {
   "codemirror_mode": {
    "name": "ipython",
    "version": 3
   },
   "file_extension": ".py",
   "mimetype": "text/x-python",
   "name": "python",
   "nbconvert_exporter": "python",
   "pygments_lexer": "ipython3",
   "version": "3.13.5"
  }
 },
 "nbformat": 4,
 "nbformat_minor": 5
}
